{
 "cells": [
  {
   "cell_type": "code",
   "execution_count": 4,
   "metadata": {},
   "outputs": [],
   "source": [
    "import cv2\n",
    "import os"
   ]
  },
  {
   "cell_type": "code",
   "execution_count": 5,
   "metadata": {},
   "outputs": [
    {
     "name": "stdout",
     "output_type": "stream",
     "text": [
      "Extracted 63 frames to 'output_frames'.\n"
     ]
    }
   ],
   "source": [
    "# Path to the video file\n",
    "video_path = \"trial.mp4\"\n",
    "output_dir = \"output_frames\"\n",
    "\n",
    "# Create the output directory if it doesn't exist\n",
    "os.makedirs(output_dir, exist_ok=True)\n",
    "\n",
    "# Open the video file\n",
    "video_capture = cv2.VideoCapture(video_path)\n",
    "\n",
    "frame_count = 0\n",
    "while True:\n",
    "    ret, frame = video_capture.read()\n",
    "    if not ret:\n",
    "        break  # Break the loop when no frames are left\n",
    "    \n",
    "    # Save each frame as an image\n",
    "    frame_filename = os.path.join(output_dir, f\"frame_{frame_count:04d}.jpeg\")\n",
    "    cv2.imwrite(frame_filename, frame)\n",
    "    frame_count += 1\n",
    "\n",
    "# Release the video capture object\n",
    "video_capture.release()\n",
    "\n",
    "print(f\"Extracted {frame_count} frames to '{output_dir}'.\")\n"
   ]
  }
 ],
 "metadata": {
  "kernelspec": {
   "display_name": "AES",
   "language": "python",
   "name": "python3"
  },
  "language_info": {
   "codemirror_mode": {
    "name": "ipython",
    "version": 3
   },
   "file_extension": ".py",
   "mimetype": "text/x-python",
   "name": "python",
   "nbconvert_exporter": "python",
   "pygments_lexer": "ipython3",
   "version": "3.13.1"
  }
 },
 "nbformat": 4,
 "nbformat_minor": 2
}

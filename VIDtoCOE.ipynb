{
 "cells": [
  {
   "cell_type": "code",
   "execution_count": 1,
   "metadata": {},
   "outputs": [
    {
     "name": "stdout",
     "output_type": "stream",
     "text": [
      "Conversion successful! Binary file saved as output.bin\n"
     ]
    }
   ],
   "source": [
    "input_file = \"trial.mp4\"  # Replace with your MP4 file path\n",
    "output_file = \"output.bin\"  # Desired binary file output\n",
    "\n",
    "try:\n",
    "    # Open the MP4 file in binary read mode\n",
    "    with open(input_file, \"rb\") as mp4_file:\n",
    "        # Read the content of the MP4 file\n",
    "        data = mp4_file.read()\n",
    "\n",
    "    # Write the binary data to the output file\n",
    "    with open(output_file, \"wb\") as bin_file:\n",
    "        bin_file.write(data)\n",
    "\n",
    "    print(f\"Conversion successful! Binary file saved as {output_file}\")\n",
    "except FileNotFoundError:\n",
    "    print(f\"File {input_file} not found. Please check the file path.\")\n",
    "except Exception as e:\n",
    "    print(f\"An error occurred: {e}\")\n"
   ]
  },
  {
   "cell_type": "code",
   "execution_count": 2,
   "metadata": {},
   "outputs": [
    {
     "name": "stdout",
     "output_type": "stream",
     "text": [
      "Conversion successful! MP4 file saved as recovered.mp4\n"
     ]
    }
   ],
   "source": [
    "# File paths\n",
    "input_file = \"output.bin\"  # Replace with your BIN file path\n",
    "output_file = \"recovered.mp4\"  # Desired MP4 file output\n",
    "\n",
    "try:\n",
    "    # Open the BIN file in binary read mode\n",
    "    with open(input_file, \"rb\") as bin_file:\n",
    "        # Read the content of the BIN file\n",
    "        data = bin_file.read()\n",
    "\n",
    "    # Write the binary data to the output MP4 file\n",
    "    with open(output_file, \"wb\") as mp4_file:\n",
    "        mp4_file.write(data)\n",
    "\n",
    "    print(f\"Conversion successful! MP4 file saved as {output_file}\")\n",
    "except FileNotFoundError:\n",
    "    print(f\"File {input_file} not found. Please check the file path.\")\n",
    "except Exception as e:\n",
    "    print(f\"An error occurred: {e}\")\n"
   ]
  },
  {
   "cell_type": "code",
   "execution_count": null,
   "metadata": {},
   "outputs": [],
   "source": []
  }
 ],
 "metadata": {
  "kernelspec": {
   "display_name": "AES",
   "language": "python",
   "name": "python3"
  },
  "language_info": {
   "codemirror_mode": {
    "name": "ipython",
    "version": 3
   },
   "file_extension": ".py",
   "mimetype": "text/x-python",
   "name": "python",
   "nbconvert_exporter": "python",
   "pygments_lexer": "ipython3",
   "version": "3.13.1"
  }
 },
 "nbformat": 4,
 "nbformat_minor": 2
}

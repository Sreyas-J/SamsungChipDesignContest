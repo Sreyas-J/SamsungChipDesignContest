{
 "cells": [
  {
   "cell_type": "code",
   "execution_count": 8,
   "metadata": {},
   "outputs": [],
   "source": [
    "from PIL import Image\n",
    "import io"
   ]
  },
  {
   "cell_type": "code",
   "execution_count": 9,
   "metadata": {},
   "outputs": [],
   "source": [
    "def encode_image_to_binary(image_path, output_binary_path, format=\"JPEG\"):\n",
    "    try:\n",
    "        # Open the image file\n",
    "        with Image.open(image_path) as img:\n",
    "            # Create an in-memory bytes buffer\n",
    "            img_byte_arr = io.BytesIO()\n",
    "            \n",
    "            # Save the image into the buffer in the specified format (JPEG, PNG, etc.)\n",
    "            img.save(img_byte_arr, format=format)\n",
    "            \n",
    "            # Get the binary data from the buffer\n",
    "            img_binary_data = img_byte_arr.getvalue()\n",
    "\n",
    "        # Write the binary data to a file\n",
    "        with open(output_binary_path, 'wb') as binary_file:\n",
    "            binary_file.write(img_binary_data)\n",
    "\n",
    "        print(f\"Image encoded and saved as binary to {output_binary_path}\")\n",
    "\n",
    "    except Exception as e:\n",
    "        print(f\"Error encoding image: {e}\")"
   ]
  },
  {
   "cell_type": "code",
   "execution_count": 10,
   "metadata": {},
   "outputs": [
    {
     "name": "stdout",
     "output_type": "stream",
     "text": [
      "Image encoded and saved as binary to encoded_image.bin\n"
     ]
    }
   ],
   "source": [
    "image_path = \"download.jpeg\"\n",
    "output_binary_path = \"encoded_image.bin\"\n",
    "format = \"JPEG\"\n",
    "\n",
    "encode_image_to_binary(image_path, output_binary_path, format)"
   ]
  },
  {
   "cell_type": "code",
   "execution_count": 11,
   "metadata": {},
   "outputs": [],
   "source": [
    "def bin_to_coe_128bit(bin_filename, coe_filename):\n",
    "    # Read the binary file\n",
    "    with open(bin_filename, \"rb\") as bin_file:\n",
    "        binary_data = bin_file.read()\n",
    "    \n",
    "    # Convert binary data into 128-bit chunks\n",
    "    hex_data = []\n",
    "    for i in range(0, len(binary_data), 16):  # Process 16 bytes (128 bits) at a time\n",
    "        chunk = binary_data[i:i+16]\n",
    "        \n",
    "        # Ensure chunk is 16 bytes by padding if needed\n",
    "        if len(chunk) < 16:\n",
    "            chunk = chunk + bytes(16 - len(chunk))\n",
    "        \n",
    "        # Convert each 16-byte chunk to a single 128-bit hex string\n",
    "        hex_string = ''.join(f\"{byte:02X}\" for byte in chunk)\n",
    "        hex_data.append(hex_string)\n",
    "\n",
    "    # Write data to COE file\n",
    "    with open(coe_filename, \"w\") as coe_file:\n",
    "        coe_file.write(\"memory_initialization_radix = 16;\\n\")\n",
    "        coe_file.write(\"memory_initialization_vector = \\n\")\n",
    "        coe_file.write(\",\\n\".join(hex_data))\n",
    "        coe_file.write(\";\")  # End with a semicolon for COE format\n",
    "\n",
    "    print(f\"COE file '{coe_filename}' generated successfully.\")\n"
   ]
  },
  {
   "cell_type": "code",
   "execution_count": 12,
   "metadata": {},
   "outputs": [
    {
     "name": "stdout",
     "output_type": "stream",
     "text": [
      "COE file 'image128.coe' generated successfully.\n"
     ]
    }
   ],
   "source": [
    "bin_filename = \"encoded_image.bin\"  # Replace with your .bin file path\n",
    "coe_filename = \"image128.coe\"  # Replace with desired .coe file path\n",
    "bin_to_coe_128bit(bin_filename, coe_filename)"
   ]
  },
  {
   "cell_type": "code",
   "execution_count": 13,
   "metadata": {},
   "outputs": [],
   "source": [
    "def split_coe_file(input_file, output_files):\n",
    "    with open(input_file, 'r') as infile:\n",
    "        lines = infile.readlines()\n",
    "\n",
    "    # Initialize variables to locate radix and vector start points\n",
    "    radix_line = None\n",
    "    data_start = None\n",
    "    \n",
    "    # Locate radix and data start lines, ignoring case and whitespace\n",
    "    for i, line in enumerate(lines):\n",
    "        line_clean = line.lower().replace(\" \", \"\")\n",
    "        if \"memory_initialization_radix=\" in line_clean:\n",
    "            radix_line = line.strip()\n",
    "        elif \"memory_initialization_vector=\" in line_clean:\n",
    "            data_start = i + 1\n",
    "            break\n",
    "    \n",
    "    # Check if both radix and data start lines were found\n",
    "    if data_start is None or radix_line is None:\n",
    "        print(\"Error: Could not find necessary lines in the .coe file.\")\n",
    "        return\n",
    "\n",
    "    # Extract the data lines and clean up\n",
    "    data_lines = []\n",
    "    for line in lines[data_start:]:\n",
    "        cleaned_line = line.strip().rstrip(\";\")  # Remove whitespace and trailing semicolons\n",
    "        if cleaned_line:\n",
    "            data_lines.extend(cleaned_line.split(\",\"))  # Split comma-separated values\n",
    "\n",
    "    # Split data among the output files\n",
    "    num_outputs = len(output_files)\n",
    "    split_data = [[] for _ in range(num_outputs)]\n",
    "    for i, value in enumerate(data_lines):\n",
    "        split_data[i % num_outputs].append(value.strip())\n",
    "\n",
    "    # Write each split data to corresponding output .coe file\n",
    "    for idx, out_file in enumerate(output_files):\n",
    "        with open(out_file, 'w') as outfile:\n",
    "            # Write the header with the same radix as in the input file\n",
    "            outfile.write(f\"{radix_line}\\n\")\n",
    "            outfile.write(\"memory_initialization_vector=\\n\")\n",
    "            # Write the data, adding commas only between values, and ending with a semicolon\n",
    "            outfile.write(\",\\n\".join(split_data[idx]) + \";\\n\")\n",
    "\n",
    "    print(f\"Successfully split {input_file} into {len(output_files)} files.\")\n"
   ]
  },
  {
   "cell_type": "code",
   "execution_count": 14,
   "metadata": {},
   "outputs": [
    {
     "name": "stdout",
     "output_type": "stream",
     "text": [
      "Successfully split image128.coe into 3 files.\n"
     ]
    }
   ],
   "source": [
    "input_file = \"image128.coe\"\n",
    "output_files = [\"output_file1.coe\", \"output_file2.coe\", \"output_file3.coe\"]\n",
    "split_coe_file(input_file, output_files)"
   ]
  }
 ],
 "metadata": {
  "kernelspec": {
   "display_name": "default",
   "language": "python",
   "name": "python3"
  },
  "language_info": {
   "codemirror_mode": {
    "name": "ipython",
    "version": 3
   },
   "file_extension": ".py",
   "mimetype": "text/x-python",
   "name": "python",
   "nbconvert_exporter": "python",
   "pygments_lexer": "ipython3",
   "version": "3.13.1"
  }
 },
 "nbformat": 4,
 "nbformat_minor": 2
}
